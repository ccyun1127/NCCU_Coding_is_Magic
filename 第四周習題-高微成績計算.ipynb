{
 "cells": [
  {
   "cell_type": "markdown",
   "metadata": {},
   "source": [
    "# 高微成績計算:\n",
    "\n",
    "Lotus正在修高等微積分。而老師的成績計算有兩種方案，擇優作為期末成績:\n",
    "\n",
    "1. 小考20%，期中考35%，期末考45%\n",
    "2. 期中考40%，期末考60%。\n",
    "\n",
    "請定義一個函式，讓使用者依序輸入自身的小考、期中考、期末考成績，\n",
    "並輸出他的期末分數。"
   ]
  },
  {
   "cell_type": "code",
   "execution_count": null,
   "metadata": {
    "collapsed": true
   },
   "outputs": [],
   "source": []
  },
  {
   "cell_type": "markdown",
   "metadata": {},
   "source": [
    "# 解答:"
   ]
  },
  {
   "cell_type": "code",
   "execution_count": 1,
   "metadata": {
    "collapsed": false
   },
   "outputs": [
    {
     "name": "stdout",
     "output_type": "stream",
     "text": [
      "請輸入你的小考成績: 100\n",
      "請輸入你的期中考成績: 100\n",
      "請輸入你的期末考成績: 0\n",
      "55.0\n"
     ]
    }
   ],
   "source": [
    "def cal():\n",
    "    quiz = float(input(\"請輸入你的小考成績: \"))\n",
    "    midterm = float(input(\"請輸入你的期中考成績: \"))\n",
    "    final = float(input(\"請輸入你的期末考成績: \"))\n",
    "    \n",
    "    score1 = 0.2*quiz + 0.35*midterm + 0.45*final\n",
    "    score2 = 0.4*midterm + 0.6*final\n",
    "    \n",
    "    if score1 >= score2:\n",
    "        print(score1)\n",
    "        \n",
    "    else:\n",
    "        print(score2)\n",
    "        \n",
    "#test\n",
    "cal()"
   ]
  },
  {
   "cell_type": "markdown",
   "metadata": {},
   "source": [
    "# 高微成績Round2:\n",
    "\n",
    "請完成下方計算全班高微成績的函式，輸入是一個(3, 30, 3)的array，\n",
    "\n",
    "表示3個班級中30位學生的成績(小考，期中考，期末考)\n",
    "\n",
    "目標輸出則是一個(3, 30, 1)的array，表示所有學生的期末成績:\n",
    "\n",
    "1. 小考20%，期中考35%，期末考45%\n",
    "2. 期中考40%，期末考60%。\n",
    "\n"
   ]
  },
  {
   "cell_type": "code",
   "execution_count": 20,
   "metadata": {
    "collapsed": false
   },
   "outputs": [
    {
     "data": {
      "text/plain": [
       "array([[[ 91,  92,  16],\n",
       "        [ 61,  50,  19],\n",
       "        [ 81,  20,  66],\n",
       "        [ 73,   5,  91],\n",
       "        [ 29,  53,   2],\n",
       "        [ 68,  87,  63],\n",
       "        [ 60,  76,  39],\n",
       "        [ 35,  41,   0],\n",
       "        [ 38,  93,   2],\n",
       "        [ 98,  55,  97],\n",
       "        [ 54,  49,  97],\n",
       "        [ 90,  68,  82],\n",
       "        [ 29,  65,   1],\n",
       "        [  2,  32,  41],\n",
       "        [ 23,  89,  85],\n",
       "        [ 45,  60,  83],\n",
       "        [ 52,  39,  46],\n",
       "        [ 25,  64,  65],\n",
       "        [ 89,  90,   6],\n",
       "        [  8,  24,   4],\n",
       "        [ 43,  13,  36],\n",
       "        [ 97,  59, 100],\n",
       "        [ 76,  50,  46],\n",
       "        [ 84,  41,  87],\n",
       "        [ 11,  55,  50],\n",
       "        [  2,  91,  31],\n",
       "        [ 12,  94,  95],\n",
       "        [100,  42,  48],\n",
       "        [ 84,   3,  62],\n",
       "        [ 82,  62,  48]],\n",
       "\n",
       "       [[ 79,  89,  53],\n",
       "        [  8,   9,  38],\n",
       "        [ 70,  53,  70],\n",
       "        [  6,  94,  36],\n",
       "        [ 95,  83,  25],\n",
       "        [ 70,  73,  86],\n",
       "        [ 34,  89,  38],\n",
       "        [  3,  39,  18],\n",
       "        [  1,  89,  55],\n",
       "        [ 95,  89,  66],\n",
       "        [ 45,  41,  91],\n",
       "        [ 40,  79,   2],\n",
       "        [ 90,  31,  89],\n",
       "        [ 36,  10,   4],\n",
       "        [ 75,  43,  87],\n",
       "        [ 67,  27,  25],\n",
       "        [ 50,  87,  36],\n",
       "        [ 66,  40,  89],\n",
       "        [ 15,  14,  82],\n",
       "        [ 32,  55,  64],\n",
       "        [ 99,  26,  96],\n",
       "        [ 88,  99,  67],\n",
       "        [ 90,  49,   3],\n",
       "        [ 97,  47,  43],\n",
       "        [ 43,  38,   8],\n",
       "        [ 88,  94,  90],\n",
       "        [  0,   5,  72],\n",
       "        [ 60,  27,  99],\n",
       "        [ 40,  16,  24],\n",
       "        [  2,   4,  52]],\n",
       "\n",
       "       [[  9,  68,  76],\n",
       "        [ 44,  19,  67],\n",
       "        [ 83,  37,  42],\n",
       "        [ 40,  91,  71],\n",
       "        [ 40,  49,  18],\n",
       "        [ 63,  64,   5],\n",
       "        [ 72,  76,  35],\n",
       "        [ 84,  82,  60],\n",
       "        [ 11,  15,  88],\n",
       "        [ 37,  85,  75],\n",
       "        [ 71,  52,  96],\n",
       "        [  3,  14,  19],\n",
       "        [ 18,  42,  18],\n",
       "        [  0,   7,  47],\n",
       "        [ 65,  89,  37],\n",
       "        [ 29,  42,  99],\n",
       "        [ 72,  62,  83],\n",
       "        [ 32,  14,  59],\n",
       "        [ 34,   0,  88],\n",
       "        [ 88,  35,  22],\n",
       "        [ 67,  80,  38],\n",
       "        [  6,  55,   7],\n",
       "        [ 70,  95,   3],\n",
       "        [ 16,   1,  49],\n",
       "        [ 56,  11,  19],\n",
       "        [100,  11,  27],\n",
       "        [ 92,  23,  15],\n",
       "        [ 43,  42,  29],\n",
       "        [ 17,  78,  88],\n",
       "        [ 76,  28,  57]]])"
      ]
     },
     "execution_count": 20,
     "metadata": {},
     "output_type": "execute_result"
    }
   ],
   "source": [
    "#基本test case生成\n",
    "import numpy as np\n",
    "\n",
    "class_score = np.random.randint(0, 101, size=(3, 30, 3))\n",
    "class_score"
   ]
  },
  {
   "cell_type": "code",
   "execution_count": null,
   "metadata": {
    "collapsed": false
   },
   "outputs": [],
   "source": [
    "def cal_class(class_score):\n",
    "    \n",
    "    #請在這邊寫上你的code\n",
    "    \n",
    "   \n",
    "        \n",
    "        "
   ]
  },
  {
   "cell_type": "code",
   "execution_count": null,
   "metadata": {
    "collapsed": true
   },
   "outputs": [],
   "source": [
    "#test\n",
    "cal_class(class_score)"
   ]
  },
  {
   "cell_type": "markdown",
   "metadata": {},
   "source": [
    "# 解答："
   ]
  },
  {
   "cell_type": "code",
   "execution_count": 21,
   "metadata": {
    "collapsed": true
   },
   "outputs": [],
   "source": [
    "def cal_class(class_score):\n",
    "    \n",
    "    #儲存最後成績的array\n",
    "    class_final_score = np.zeros(shape=(3, 30, 1))\n",
    "    \n",
    "    #class_score.shape = (3, 30, 3) -> class_score.shape[0] = 3 \n",
    "    #每個班級\n",
    "    for i in range (class_score.shape[0]):\n",
    "        \n",
    "        #class_score.shape = (3, 30, 3) -> class_score.shape[1] = 30 \n",
    "        #每個人\n",
    "        for j in range(class_score.shape[1]):\n",
    "            \n",
    "            quiz = class_score[i][j][0]\n",
    "            midterm = class_score[i][j][1]\n",
    "            final = class_score[i][j][2]\n",
    "\n",
    "            score1 = 0.2*quiz + 0.35*midterm + 0.45*final\n",
    "            score2 = 0.4*midterm + 0.6*final\n",
    "\n",
    "            if score1 >= score2:\n",
    "                class_final_score[i][j][0] = score1 \n",
    "\n",
    "            else:\n",
    "                class_final_score[i][j][0] = score2   \n",
    "\n",
    "    return class_final_score"
   ]
  },
  {
   "cell_type": "code",
   "execution_count": 22,
   "metadata": {
    "collapsed": false
   },
   "outputs": [
    {
     "name": "stdout",
     "output_type": "stream",
     "text": [
      "[[[ 57.6 ]\n",
      "  [ 38.25]\n",
      "  [ 52.9 ]\n",
      "  [ 57.3 ]\n",
      "  [ 25.25]\n",
      "  [ 72.6 ]\n",
      "  [ 56.15]\n",
      "  [ 21.35]\n",
      "  [ 41.05]\n",
      "  [ 82.5 ]\n",
      "  [ 77.8 ]\n",
      "  [ 78.7 ]\n",
      "  [ 29.  ]\n",
      "  [ 37.4 ]\n",
      "  [ 86.6 ]\n",
      "  [ 73.8 ]\n",
      "  [ 44.75]\n",
      "  [ 64.6 ]\n",
      "  [ 52.  ]\n",
      "  [ 12.  ]\n",
      "  [ 29.35]\n",
      "  [ 85.05]\n",
      "  [ 53.4 ]\n",
      "  [ 70.3 ]\n",
      "  [ 52.  ]\n",
      "  [ 55.  ]\n",
      "  [ 94.6 ]\n",
      "  [ 56.3 ]\n",
      "  [ 45.75]\n",
      "  [ 59.7 ]]\n",
      "\n",
      " [[ 70.8 ]\n",
      "  [ 26.4 ]\n",
      "  [ 64.05]\n",
      "  [ 59.2 ]\n",
      "  [ 59.3 ]\n",
      "  [ 80.8 ]\n",
      "  [ 58.4 ]\n",
      "  [ 26.4 ]\n",
      "  [ 68.6 ]\n",
      "  [ 79.85]\n",
      "  [ 71.  ]\n",
      "  [ 36.55]\n",
      "  [ 68.9 ]\n",
      "  [ 12.5 ]\n",
      "  [ 69.4 ]\n",
      "  [ 34.1 ]\n",
      "  [ 56.65]\n",
      "  [ 69.4 ]\n",
      "  [ 54.8 ]\n",
      "  [ 60.4 ]\n",
      "  [ 72.1 ]\n",
      "  [ 82.4 ]\n",
      "  [ 36.5 ]\n",
      "  [ 55.2 ]\n",
      "  [ 25.5 ]\n",
      "  [ 91.6 ]\n",
      "  [ 45.2 ]\n",
      "  [ 70.2 ]\n",
      "  [ 24.4 ]\n",
      "  [ 32.8 ]]\n",
      "\n",
      " [[ 72.8 ]\n",
      "  [ 47.8 ]\n",
      "  [ 48.45]\n",
      "  [ 79.  ]\n",
      "  [ 33.25]\n",
      "  [ 37.25]\n",
      "  [ 56.75]\n",
      "  [ 72.5 ]\n",
      "  [ 58.8 ]\n",
      "  [ 79.  ]\n",
      "  [ 78.4 ]\n",
      "  [ 17.  ]\n",
      "  [ 27.6 ]\n",
      "  [ 31.  ]\n",
      "  [ 60.8 ]\n",
      "  [ 76.2 ]\n",
      "  [ 74.6 ]\n",
      "  [ 41.  ]\n",
      "  [ 52.8 ]\n",
      "  [ 39.75]\n",
      "  [ 58.5 ]\n",
      "  [ 26.2 ]\n",
      "  [ 48.6 ]\n",
      "  [ 29.8 ]\n",
      "  [ 23.6 ]\n",
      "  [ 36.  ]\n",
      "  [ 33.2 ]\n",
      "  [ 36.35]\n",
      "  [ 84.  ]\n",
      "  [ 50.65]]]\n"
     ]
    }
   ],
   "source": [
    "#test\n",
    "print(cal_class(class_score))\n"
   ]
  },
  {
   "cell_type": "code",
   "execution_count": null,
   "metadata": {
    "collapsed": true
   },
   "outputs": [],
   "source": []
  }
 ],
 "metadata": {
  "kernelspec": {
   "display_name": "Python 3",
   "language": "python",
   "name": "python3"
  },
  "language_info": {
   "codemirror_mode": {
    "name": "ipython",
    "version": 3
   },
   "file_extension": ".py",
   "mimetype": "text/x-python",
   "name": "python",
   "nbconvert_exporter": "python",
   "pygments_lexer": "ipython3",
   "version": "3.5.2"
  }
 },
 "nbformat": 4,
 "nbformat_minor": 2
}
