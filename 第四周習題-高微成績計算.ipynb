{
 "cells": [
  {
   "cell_type": "markdown",
   "metadata": {},
   "source": [
    "# 高微成績計算:\n",
    "\n",
    "Lotus正在修高等微積分。而老師的成績計算有兩種方案，擇優作為期末成績:\n",
    "\n",
    "1. 小考20%，期中考35%，期末考45%\n",
    "2. 期中考40%，期末考60%。\n",
    "\n",
    "請定義一個函式，讓使用者依序輸入自身的小考、期中考、期末考成績，\n",
    "並輸出他的期末分數。"
   ]
  },
  {
   "cell_type": "code",
   "execution_count": null,
   "metadata": {
    "collapsed": true
   },
   "outputs": [],
   "source": []
  },
  {
   "cell_type": "markdown",
   "metadata": {},
   "source": [
    "# 解答:"
   ]
  },
  {
   "cell_type": "code",
   "execution_count": 3,
   "metadata": {},
   "outputs": [
    {
     "name": "stdout",
     "output_type": "stream",
     "text": [
      "請輸入你的小考成績: 0\n",
      "請輸入你的期中考成績: 100\n",
      "請輸入你的期末考成績: 100\n",
      "100.0\n"
     ]
    }
   ],
   "source": [
    "def cal():\n",
    "    quiz = float(input(\"請輸入你的小考成績: \"))\n",
    "    midterm = float(input(\"請輸入你的期中考成績: \"))\n",
    "    final = float(input(\"請輸入你的期末考成績: \"))\n",
    "    \n",
    "    score1 = 0.2*quiz + 0.35*midterm + 0.45*final\n",
    "    score2 = 0.4*midterm + 0.6*final\n",
    "    \n",
    "    if score1 >= score2:\n",
    "        print(score1)\n",
    "        \n",
    "    else:\n",
    "        print(score2)\n",
    "        \n",
    "#test\n",
    "cal()"
   ]
  },
  {
   "cell_type": "markdown",
   "metadata": {},
   "source": [
    "# 高微成績進階:\n",
    "\n",
    "請完成下方計算全班高微成績的函式，輸入是一個30*3的array，\n",
    "\n",
    "表示30位學生的成績(小考，期中考，期末考)\n",
    "\n",
    "目標輸出則是一個30*1的array，表示所有學生的期末成績:\n",
    "\n",
    "1. 小考20%，期中考35%，期末考45%\n",
    "2. 期中考40%，期末考60%。\n",
    "\n"
   ]
  },
  {
   "cell_type": "code",
   "execution_count": 4,
   "metadata": {
    "collapsed": true
   },
   "outputs": [],
   "source": [
    "#基本test case生成\n",
    "import numpy as np\n",
    "\n",
    "class_score = np.random.randint(0, 101, size=(30, 3))"
   ]
  },
  {
   "cell_type": "code",
   "execution_count": null,
   "metadata": {
    "collapsed": true
   },
   "outputs": [],
   "source": [
    "def cal_class(class_score):\n",
    "    \n",
    "    #儲存最後成績的array\n",
    "    class_final_score = np.zeros(shape=(30, 1))\n",
    "    \n",
    "    #class_score.shape = (30, 3) -> class_score.shape[0] = 30 \n",
    "    for i in range (class_score.shape[0]):\n",
    "        \n",
    "        quiz = class_score[i][0]\n",
    "        midterm = class_score[i][1]\n",
    "        final = class_score[i][2]\n",
    "        \n",
    "        score1 = 0.2*quiz + 0.35*midterm + 0.45*final\n",
    "        score2 = 0.4*midterm + 0.6*final\n",
    "\n",
    "        if score1 >= score2:\n",
    "            class_final_score[i][0] = score1 \n",
    "            \n",
    "        else:\n",
    "            class_final_score[i][0] = score2       \n",
    "        \n",
    "        "
   ]
  }
 ],
 "metadata": {
  "kernelspec": {
   "display_name": "Python 3",
   "language": "python",
   "name": "python3"
  },
  "language_info": {
   "codemirror_mode": {
    "name": "ipython",
    "version": 3
   },
   "file_extension": ".py",
   "mimetype": "text/x-python",
   "name": "python",
   "nbconvert_exporter": "python",
   "pygments_lexer": "ipython3",
   "version": "3.6.2"
  }
 },
 "nbformat": 4,
 "nbformat_minor": 2
}
