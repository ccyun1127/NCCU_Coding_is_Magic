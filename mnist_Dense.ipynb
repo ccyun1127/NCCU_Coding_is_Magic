{
 "cells": [
  {
   "cell_type": "code",
   "execution_count": 1,
   "metadata": {},
   "outputs": [
    {
     "name": "stderr",
     "output_type": "stream",
     "text": [
      "Using TensorFlow backend.\n"
     ]
    }
   ],
   "source": [
    "# 引入函式庫\n",
    "from __future__ import print_function\n",
    "import keras\n",
    "from keras.datasets import mnist\n",
    "from keras.models import Sequential\n",
    "from keras.layers import Dense, Dropout, Flatten\n",
    "from keras.layers import Conv2D, MaxPooling2D\n",
    "from keras import backend as K"
   ]
  },
  {
   "cell_type": "code",
   "execution_count": 2,
   "metadata": {},
   "outputs": [
    {
     "name": "stdout",
     "output_type": "stream",
     "text": [
      "x_train shape: (60000, 28, 28, 1)\n",
      "60000 train samples\n",
      "10000 test samples\n"
     ]
    }
   ],
   "source": [
    "# 繁瑣的資料前處理，總之大家先假裝沒看到\n",
    "\n",
    "batch_size = 128\n",
    "num_classes = 10\n",
    "epochs = 3\n",
    "\n",
    "# input image dimensions\n",
    "img_rows, img_cols = 28, 28\n",
    "\n",
    "# the data, split between train and test sets\n",
    "(x_train, y_train), (x_test, y_test) = mnist.load_data()\n",
    "\n",
    "if K.image_data_format() == 'channels_first':\n",
    "    x_train = x_train.reshape(x_train.shape[0], 1, img_rows, img_cols)\n",
    "    x_test = x_test.reshape(x_test.shape[0], 1, img_rows, img_cols)\n",
    "    input_shape = (1, img_rows, img_cols)\n",
    "else:\n",
    "    x_train = x_train.reshape(x_train.shape[0], img_rows, img_cols, 1)\n",
    "    x_test = x_test.reshape(x_test.shape[0], img_rows, img_cols, 1)\n",
    "    input_shape = (img_rows, img_cols, 1)\n",
    "\n",
    "x_train = x_train.astype('float32')\n",
    "x_test = x_test.astype('float32')\n",
    "x_train /= 255\n",
    "x_test /= 255\n",
    "print('x_train shape:', x_train.shape)\n",
    "print(x_train.shape[0], 'train samples')\n",
    "print(x_test.shape[0], 'test samples')\n",
    "\n",
    "\n",
    "# convert class vectors to binary class matrices\n",
    "y_train = keras.utils.to_categorical(y_train, num_classes)\n",
    "y_test = keras.utils.to_categorical(y_test, num_classes)\n",
    "\n"
   ]
  },
  {
   "cell_type": "code",
   "execution_count": 6,
   "metadata": {},
   "outputs": [
    {
     "name": "stdout",
     "output_type": "stream",
     "text": [
      "_________________________________________________________________\n",
      "Layer (type)                 Output Shape              Param #   \n",
      "=================================================================\n",
      "flatten_1 (Flatten)          (None, 784)               0         \n",
      "_________________________________________________________________\n",
      "dense_13 (Dense)             (None, 32)                25120     \n",
      "_________________________________________________________________\n",
      "dense_14 (Dense)             (None, 32)                1056      \n",
      "_________________________________________________________________\n",
      "dense_15 (Dense)             (None, 32)                1056      \n",
      "_________________________________________________________________\n",
      "dense_16 (Dense)             (None, 10)                330       \n",
      "=================================================================\n",
      "Total params: 27,562\n",
      "Trainable params: 27,562\n",
      "Non-trainable params: 0\n",
      "_________________________________________________________________\n",
      "Train on 60000 samples, validate on 10000 samples\n",
      "Epoch 1/12\n",
      "60000/60000 [==============================] - 3s 51us/step - loss: 0.4294 - acc: 0.8706 - val_loss: 0.2418 - val_acc: 0.9260\n",
      "Epoch 2/12\n",
      "60000/60000 [==============================] - 2s 25us/step - loss: 0.1969 - acc: 0.9417 - val_loss: 0.1912 - val_acc: 0.9420\n",
      "Epoch 3/12\n",
      "60000/60000 [==============================] - 2s 28us/step - loss: 0.1584 - acc: 0.9524 - val_loss: 0.1527 - val_acc: 0.9532\n",
      "Epoch 4/12\n",
      "60000/60000 [==============================] - 2s 30us/step - loss: 0.1353 - acc: 0.9586 - val_loss: 0.1448 - val_acc: 0.9554\n",
      "Epoch 5/12\n",
      "60000/60000 [==============================] - 2s 32us/step - loss: 0.1191 - acc: 0.9643 - val_loss: 0.1307 - val_acc: 0.9594\n",
      "Epoch 6/12\n",
      "60000/60000 [==============================] - 2s 40us/step - loss: 0.1072 - acc: 0.9677 - val_loss: 0.1250 - val_acc: 0.9611\n",
      "Epoch 7/12\n",
      "60000/60000 [==============================] - 2s 30us/step - loss: 0.0982 - acc: 0.9700 - val_loss: 0.1148 - val_acc: 0.9669\n",
      "Epoch 8/12\n",
      "60000/60000 [==============================] - 2s 32us/step - loss: 0.0901 - acc: 0.9735 - val_loss: 0.1160 - val_acc: 0.9659\n",
      "Epoch 9/12\n",
      "60000/60000 [==============================] - 2s 31us/step - loss: 0.0844 - acc: 0.9746 - val_loss: 0.1056 - val_acc: 0.9684\n",
      "Epoch 10/12\n",
      "60000/60000 [==============================] - 1s 25us/step - loss: 0.0789 - acc: 0.9762 - val_loss: 0.1092 - val_acc: 0.9668\n",
      "Epoch 11/12\n",
      "60000/60000 [==============================] - 1s 23us/step - loss: 0.0744 - acc: 0.9784 - val_loss: 0.1062 - val_acc: 0.9691\n",
      "Epoch 12/12\n",
      "60000/60000 [==============================] - 2s 27us/step - loss: 0.0693 - acc: 0.9792 - val_loss: 0.1023 - val_acc: 0.9706\n"
     ]
    },
    {
     "data": {
      "text/plain": [
       "<keras.callbacks.History at 0x10ced5898>"
      ]
     },
     "execution_count": 6,
     "metadata": {},
     "output_type": "execute_result"
    }
   ],
   "source": [
    "# 這裡是建模（真的很簡單吧XD）\n",
    "\n",
    "# 讓model的建立是按照順序的\n",
    "model = Sequential()\n",
    "\n",
    "# 為了後面，我要先拉直\n",
    "# 第一層要先決定input_shape這個變數\n",
    "model.add(Flatten(input_shape=input_shape))\n",
    "\n",
    "# 總之是一般的全連接層\n",
    "model.add(Dense(32, activation='relu'))\n",
    "model.add(Dense(32, activation='relu'))\n",
    "model.add(Dense(32, activation='relu'))\n",
    "\n",
    "# 其實也是全連接層，只是我的activation function 不太一樣\n",
    "model.add(Dense(num_classes, activation='softmax'))\n",
    "\n",
    "# 看一下我們的模型是什麼樣子\n",
    "model.summary()\n",
    "\n",
    "\n",
    "# 回到投影片\n",
    "\n",
    "\n",
    "# 編譯（讓模型變成可以動的形式）（想像它在通電）\n",
    "model.compile(loss=keras.losses.categorical_crossentropy,\n",
    "              optimizer=keras.optimizers.Adadelta(),\n",
    "              metrics=['accuracy'])\n",
    "\n",
    "# 開始訓練！（打開開關）\n",
    "model.fit(x_train, y_train,\n",
    "          batch_size=batch_size,\n",
    "          epochs=epochs,\n",
    "          verbose=1,\n",
    "          validation_data=(x_test, y_test))\n"
   ]
  },
  {
   "cell_type": "code",
   "execution_count": null,
   "metadata": {
    "collapsed": true
   },
   "outputs": [],
   "source": [
    "# 為結果評分\n",
    "score = model.evaluate(x_test, y_test, verbose=0)\n",
    "print('Test loss:', score[0])\n",
    "print('Test accuracy:', score[1])"
   ]
  }
 ],
 "metadata": {
  "kernelspec": {
   "display_name": "Python [conda env:py3.6.4]",
   "language": "python",
   "name": "conda-env-py3.6.4-py"
  },
  "language_info": {
   "codemirror_mode": {
    "name": "ipython",
    "version": 3
   },
   "file_extension": ".py",
   "mimetype": "text/x-python",
   "name": "python",
   "nbconvert_exporter": "python",
   "pygments_lexer": "ipython3",
   "version": "3.6.4"
  }
 },
 "nbformat": 4,
 "nbformat_minor": 2
}
