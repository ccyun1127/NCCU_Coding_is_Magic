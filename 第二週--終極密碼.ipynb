{
 "cells": [
  {
   "cell_type": "markdown",
   "metadata": {},
   "source": [
    "# 給定一個數列，與一個目標數字，請輸出一個tuple，\n",
    "# 表示如何在這個數列裡組成這個目標數字。\n"
   ]
  },
  {
   "cell_type": "markdown",
   "metadata": {},
   "source": [
    "#  給定數列A = [2, 7, 11, 5] 與目標數字9，\n",
    "# 由於2+7 = 9，輸出[0, 1] (A[0]+A[1] = 9)"
   ]
  },
  {
   "cell_type": "markdown",
   "metadata": {},
   "source": [
    "# 此外，請把整個功能弄成一個函式"
   ]
  },
  {
   "cell_type": "code",
   "execution_count": 1,
   "metadata": {
    "collapsed": true
   },
   "outputs": [],
   "source": [
    "def Target_Code(num, target):\n",
    "    list_length = len(num)\n",
    "    for i in range(list_length-1):\n",
    "        for j in range(1, list_length):\n",
    "            if(num[i]+num[j] == target):\n",
    "                return (i, j)"
   ]
  },
  {
   "cell_type": "code",
   "execution_count": null,
   "metadata": {
    "collapsed": true
   },
   "outputs": [],
   "source": []
  }
 ],
 "metadata": {
  "kernelspec": {
   "display_name": "Python 3",
   "language": "python",
   "name": "python3"
  },
  "language_info": {
   "codemirror_mode": {
    "name": "ipython",
    "version": 3
   },
   "file_extension": ".py",
   "mimetype": "text/x-python",
   "name": "python",
   "nbconvert_exporter": "python",
   "pygments_lexer": "ipython3",
   "version": "3.5.2"
  }
 },
 "nbformat": 4,
 "nbformat_minor": 0
}
