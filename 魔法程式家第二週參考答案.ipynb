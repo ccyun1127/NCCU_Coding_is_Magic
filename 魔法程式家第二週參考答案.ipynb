{
 "cells": [
  {
   "cell_type": "markdown",
   "metadata": {},
   "source": [
    "# 第一題"
   ]
  },
  {
   "cell_type": "code",
   "execution_count": 1,
   "metadata": {
    "collapsed": false
   },
   "outputs": [],
   "source": [
    "def prob_of_toloo():\n",
    "    book_yuan = input(\"有沒有參加書院(yes or no) 30%\")\n",
    "    mouth_pao = input(\"嘴砲程度(1~10) 10%\")\n",
    "    shi_shei_huei = input(\"有沒有參加系學會(yes or no) 20%\")\n",
    "    club = input(\"有沒有參加社團(yes or no) 20%\")\n",
    "    rabbit = input(\"有沒有信大兔兔神教20%\")\n",
    "\n",
    "    prob = 0\n",
    "\n",
    "    if(book_yuan == \"yes\"):\n",
    "        prob += 0.3\n",
    "\n",
    "    prob += (float(mouth_pao)/10)*0.1\n",
    "    \n",
    "    if(shi_shei_huei == \"yes\"):\n",
    "        prob += 0.2\n",
    "\n",
    "    if(club == \"yes\"):\n",
    "        prob += 0.2\n",
    "\n",
    "    if(rabbit == \"yes\"):\n",
    "        prob += 0.2\n",
    "    \n",
    "    return prob"
   ]
  },
  {
   "cell_type": "code",
   "execution_count": 2,
   "metadata": {
    "collapsed": false
   },
   "outputs": [
    {
     "name": "stdout",
     "output_type": "stream",
     "text": [
      "有沒有參加書院(yes or no) 30%no\n",
      "嘴砲程度(1~10) 10%10\n",
      "有沒有參加系學會(yes or no) 20%no\n",
      "有沒有參加社團(yes or no) 20%yes\n",
      "有沒有信大兔兔神教20%yes\n",
      "我的脫魯機率：  0.5\n"
     ]
    }
   ],
   "source": [
    "loo = prob_of_toloo()\n",
    "print(\"我的脫魯機率： \", loo)"
   ]
  },
  {
   "cell_type": "markdown",
   "metadata": {},
   "source": [
    "# 第二題"
   ]
  },
  {
   "cell_type": "code",
   "execution_count": 3,
   "metadata": {
    "collapsed": true
   },
   "outputs": [],
   "source": [
    "def Target_Code(num, target):\n",
    "    list_length = len(num)\n",
    "    for i in range(list_length-1):\n",
    "        for j in range(1, list_length):\n",
    "            if(num[i]+num[j] == target):\n",
    "                return (i, j)"
   ]
  },
  {
   "cell_type": "code",
   "execution_count": 4,
   "metadata": {
    "collapsed": false
   },
   "outputs": [
    {
     "data": {
      "text/plain": [
       "(0, 1)"
      ]
     },
     "execution_count": 4,
     "metadata": {},
     "output_type": "execute_result"
    }
   ],
   "source": [
    "Target_Code([1, 2, 8, 7], 3)"
   ]
  },
  {
   "cell_type": "markdown",
   "metadata": {},
   "source": [
    "# 第三題"
   ]
  },
  {
   "cell_type": "code",
   "execution_count": 8,
   "metadata": {
    "collapsed": true
   },
   "outputs": [],
   "source": [
    "def Miles_Calculator():\n",
    "    mile = 0\n",
    "    total_mile = 0\n",
    "    while(1):\n",
    "        mile = input(\"里程？ （輸入-1代表結束）\")\n",
    "        if int(mile) == -1:\n",
    "            break\n",
    "        level = input(\"艙等？\")\n",
    "        if level == \"X\":\n",
    "            level = 0\n",
    "        elif level == \"Y\":\n",
    "            level = 1\n",
    "        else:\n",
    "            print(\"錯誤，重新輸入.......\")\n",
    "            Miles_Calculator()\n",
    "        \n",
    "        total_mile += float(mile)*level\n",
    "    \n",
    "    return total_mile"
   ]
  },
  {
   "cell_type": "code",
   "execution_count": 9,
   "metadata": {
    "collapsed": false
   },
   "outputs": [
    {
     "name": "stdout",
     "output_type": "stream",
     "text": [
      "里程？ （輸入-1代表結束）100\n",
      "艙等？X\n",
      "里程？ （輸入-1代表結束）87\n",
      "艙等？Y\n",
      "里程？ （輸入-1代表結束）-1\n"
     ]
    },
    {
     "data": {
      "text/plain": [
       "87.0"
      ]
     },
     "execution_count": 9,
     "metadata": {},
     "output_type": "execute_result"
    }
   ],
   "source": [
    "Miles_Calculator()"
   ]
  },
  {
   "cell_type": "markdown",
   "metadata": {},
   "source": [
    "# 第四題"
   ]
  },
  {
   "cell_type": "code",
   "execution_count": 12,
   "metadata": {
    "collapsed": true
   },
   "outputs": [],
   "source": [
    "def GAN_EN():\n",
    "    pipi = (\"感恩炎龍，讚嘆炎龍。\")\n",
    "    print(\"請輸入你要說的話，師傅會幫你消除業力，輸入「拜拜」，師傅就會停下來。\")\n",
    "    while(22):\n",
    "        a = input()\n",
    "        print(pipi)\n",
    "        if a == \"拜拜\":\n",
    "            break\n",
    "    \n",
    "    "
   ]
  },
  {
   "cell_type": "code",
   "execution_count": 13,
   "metadata": {
    "collapsed": false
   },
   "outputs": [
    {
     "name": "stdout",
     "output_type": "stream",
     "text": [
      "請輸入你要說的話，師傅會幫你消除業力，輸入「拜拜」，師傅就會停下來。\n",
      "jjj\n",
      "感恩炎龍，讚嘆炎龍。\n",
      "kkk\n",
      "感恩炎龍，讚嘆炎龍。\n",
      "拜拜\n",
      "感恩炎龍，讚嘆炎龍。\n"
     ]
    }
   ],
   "source": [
    "GAN_EN()"
   ]
  },
  {
   "cell_type": "markdown",
   "metadata": {},
   "source": [
    "# 第五題"
   ]
  },
  {
   "cell_type": "code",
   "execution_count": 16,
   "metadata": {
    "collapsed": false
   },
   "outputs": [],
   "source": [
    "import random "
   ]
  },
  {
   "cell_type": "code",
   "execution_count": 17,
   "metadata": {
    "collapsed": true
   },
   "outputs": [],
   "source": [
    "def guess_number():\n",
    "    code = random.randint(1,101)\n",
    "    guess = int(input(\"請猜數字：\"))\n",
    "    upper = 100\n",
    "    lower = 1\n",
    "    while(guess != code):\n",
    "        if(guess > code):\n",
    "            upper = guess\n",
    "        else:\n",
    "            lower = guess\n",
    "        \n",
    "        print(\"在\", lower, \"跟\", upper, \"之間\")\n",
    "            \n",
    "        guess = int(input(\"請猜數字：\"))\n",
    "    \n",
    "    print(\"你答對了！炎龍拍拍你！\")\n",
    "    \n",
    "        "
   ]
  },
  {
   "cell_type": "code",
   "execution_count": 18,
   "metadata": {
    "collapsed": false
   },
   "outputs": [
    {
     "name": "stdout",
     "output_type": "stream",
     "text": [
      "請猜數字：80\n",
      "在 1 跟 80 之間\n",
      "請猜數字：70\n",
      "在 1 跟 70 之間\n",
      "請猜數字：35\n",
      "在 1 跟 35 之間\n",
      "請猜數字：17\n",
      "你答對了！炎龍拍拍你！\n"
     ]
    }
   ],
   "source": [
    "guess_number()"
   ]
  },
  {
   "cell_type": "markdown",
   "metadata": {},
   "source": [
    "# 第六題"
   ]
  },
  {
   "cell_type": "code",
   "execution_count": 19,
   "metadata": {
    "collapsed": true
   },
   "outputs": [],
   "source": [
    "def reverse():\n",
    "    word = input(\"請給我一串英文字\")\n",
    "    reverse_word = \"\"\n",
    "    word_len = len(word)\n",
    "    \n",
    "    for i in range(word_len):\n",
    "        reverse_word = reverse_word + word[word_len-i-1] \n",
    "    \n",
    "    print(reverse_word)"
   ]
  },
  {
   "cell_type": "code",
   "execution_count": 20,
   "metadata": {
    "collapsed": false
   },
   "outputs": [
    {
     "name": "stdout",
     "output_type": "stream",
     "text": [
      "請給我一串英文字yelling tsai\n",
      "iast gnilley\n"
     ]
    }
   ],
   "source": [
    "reverse()"
   ]
  },
  {
   "cell_type": "markdown",
   "metadata": {},
   "source": [
    "#  第七題"
   ]
  },
  {
   "cell_type": "code",
   "execution_count": 20,
   "metadata": {
    "collapsed": false
   },
   "outputs": [],
   "source": [
    "tian = [\"甲\", \"乙\", \"丙\", \"丁\", \"戊\", \"己\", \"庚\", \"辛\", \"壬\", \"癸\"]"
   ]
  },
  {
   "cell_type": "code",
   "execution_count": 21,
   "metadata": {
    "collapsed": true
   },
   "outputs": [],
   "source": [
    "gan = [\"子\", \"丑\", \"寅\", \"卯\", \"辰\", \"巳\", \"午\", \"未\", \"申\", \"酉\", \"戌\", \"亥\" ]"
   ]
  },
  {
   "cell_type": "code",
   "execution_count": 22,
   "metadata": {
    "collapsed": false
   },
   "outputs": [
    {
     "name": "stdout",
     "output_type": "stream",
     "text": [
      "2014 是 甲 子 年\n",
      "2015 是 乙 丑 年\n",
      "2016 是 丙 寅 年\n",
      "2017 是 丁 卯 年\n",
      "2018 是 戊 辰 年\n",
      "2019 是 己 巳 年\n",
      "2020 是 庚 午 年\n",
      "2021 是 辛 未 年\n",
      "2022 是 壬 申 年\n",
      "2023 是 癸 酉 年\n",
      "2024 是 甲 戌 年\n",
      "2025 是 乙 亥 年\n",
      "2026 是 丙 子 年\n",
      "2027 是 丁 丑 年\n",
      "2028 是 戊 寅 年\n",
      "2029 是 己 卯 年\n",
      "2030 是 庚 辰 年\n",
      "2031 是 辛 巳 年\n",
      "2032 是 壬 午 年\n",
      "2033 是 癸 未 年\n",
      "2034 是 甲 申 年\n",
      "2035 是 乙 酉 年\n",
      "2036 是 丙 戌 年\n",
      "2037 是 丁 亥 年\n",
      "2038 是 戊 子 年\n",
      "2039 是 己 丑 年\n",
      "2040 是 庚 寅 年\n",
      "2041 是 辛 卯 年\n",
      "2042 是 壬 辰 年\n",
      "2043 是 癸 巳 年\n",
      "2044 是 甲 午 年\n",
      "2045 是 乙 未 年\n",
      "2046 是 丙 申 年\n",
      "2047 是 丁 酉 年\n",
      "2048 是 戊 戌 年\n",
      "2049 是 己 亥 年\n",
      "2050 是 庚 子 年\n",
      "2051 是 辛 丑 年\n",
      "2052 是 壬 寅 年\n",
      "2053 是 癸 卯 年\n",
      "2054 是 甲 辰 年\n",
      "2055 是 乙 巳 年\n",
      "2056 是 丙 午 年\n",
      "2057 是 丁 未 年\n",
      "2058 是 戊 申 年\n",
      "2059 是 己 酉 年\n",
      "2060 是 庚 戌 年\n",
      "2061 是 辛 亥 年\n",
      "2062 是 壬 子 年\n",
      "2063 是 癸 丑 年\n",
      "2064 是 甲 寅 年\n",
      "2065 是 乙 卯 年\n",
      "2066 是 丙 辰 年\n",
      "2067 是 丁 巳 年\n",
      "2068 是 戊 午 年\n",
      "2069 是 己 未 年\n",
      "2070 是 庚 申 年\n",
      "2071 是 辛 酉 年\n",
      "2072 是 壬 戌 年\n",
      "2073 是 癸 亥 年\n"
     ]
    }
   ],
   "source": [
    "t = 0\n",
    "g = 0\n",
    "for i in range(2014, 2074):\n",
    "    if(t > 9):\n",
    "        t = 0\n",
    "    if(g > 11):\n",
    "        g = 0\n",
    "    \n",
    "    print(i, \"是\", tian[t], gan[g], \"年\")\n",
    "        \n",
    "    t += 1\n",
    "    g += 1"
   ]
  },
  {
   "cell_type": "markdown",
   "metadata": {},
   "source": [
    "# 第八題"
   ]
  },
  {
   "cell_type": "code",
   "execution_count": 23,
   "metadata": {
    "collapsed": true
   },
   "outputs": [],
   "source": [
    "def lung_lung_spoon():\n",
    "    spoon = input(\"你掉的是 1.金湯匙、 2.銀湯匙還是 3.破湯匙啊？\")\n",
    "\n",
    "    if spoon == 3:\n",
    "        print(\"請找炎龍老師領回你的破湯匙\")\n",
    "\n",
    "    else:\n",
    "        print(\"你不誠實~你才沒有掉過湯匙\")"
   ]
  },
  {
   "cell_type": "code",
   "execution_count": 24,
   "metadata": {
    "collapsed": false
   },
   "outputs": [
    {
     "name": "stdout",
     "output_type": "stream",
     "text": [
      "你掉的是1.金湯匙、2.銀湯匙還是3.破湯匙啊？1\n",
      "你不誠實~你才沒有掉過湯匙\n"
     ]
    }
   ],
   "source": [
    "lung_lung_spoon()"
   ]
  },
  {
   "cell_type": "markdown",
   "metadata": {},
   "source": [
    "# 第九題"
   ]
  },
  {
   "cell_type": "code",
   "execution_count": 22,
   "metadata": {
    "collapsed": false
   },
   "outputs": [],
   "source": [
    "def tree(n):\n",
    "    space_0 = int((n/2)+1)\n",
    "    for i in range(1, n+1):\n",
    "        for j in range(space_0-i+2):\n",
    "            print(\" \", end='')\n",
    "        for j in range(1, i+1):\n",
    "            print(\"* \", end='')\n",
    "        \n",
    "        print(\"\\n\")\n",
    "    \n",
    "        \n"
   ]
  },
  {
   "cell_type": "code",
   "execution_count": 23,
   "metadata": {
    "collapsed": false
   },
   "outputs": [
    {
     "name": "stdout",
     "output_type": "stream",
     "text": [
      "                                             * \n",
      "\n",
      "                                            * * \n",
      "\n",
      "                                           * * * \n",
      "\n",
      "                                          * * * * \n",
      "\n",
      "                                         * * * * * \n",
      "\n",
      "                                        * * * * * * \n",
      "\n",
      "                                       * * * * * * * \n",
      "\n",
      "                                      * * * * * * * * \n",
      "\n",
      "                                     * * * * * * * * * \n",
      "\n",
      "                                    * * * * * * * * * * \n",
      "\n",
      "                                   * * * * * * * * * * * \n",
      "\n",
      "                                  * * * * * * * * * * * * \n",
      "\n",
      "                                 * * * * * * * * * * * * * \n",
      "\n",
      "                                * * * * * * * * * * * * * * \n",
      "\n",
      "                               * * * * * * * * * * * * * * * \n",
      "\n",
      "                              * * * * * * * * * * * * * * * * \n",
      "\n",
      "                             * * * * * * * * * * * * * * * * * \n",
      "\n",
      "                            * * * * * * * * * * * * * * * * * * \n",
      "\n",
      "                           * * * * * * * * * * * * * * * * * * * \n",
      "\n",
      "                          * * * * * * * * * * * * * * * * * * * * \n",
      "\n",
      "                         * * * * * * * * * * * * * * * * * * * * * \n",
      "\n",
      "                        * * * * * * * * * * * * * * * * * * * * * * \n",
      "\n",
      "                       * * * * * * * * * * * * * * * * * * * * * * * \n",
      "\n",
      "                      * * * * * * * * * * * * * * * * * * * * * * * * \n",
      "\n",
      "                     * * * * * * * * * * * * * * * * * * * * * * * * * \n",
      "\n",
      "                    * * * * * * * * * * * * * * * * * * * * * * * * * * \n",
      "\n",
      "                   * * * * * * * * * * * * * * * * * * * * * * * * * * * \n",
      "\n",
      "                  * * * * * * * * * * * * * * * * * * * * * * * * * * * * \n",
      "\n",
      "                 * * * * * * * * * * * * * * * * * * * * * * * * * * * * * \n",
      "\n",
      "                * * * * * * * * * * * * * * * * * * * * * * * * * * * * * * \n",
      "\n",
      "               * * * * * * * * * * * * * * * * * * * * * * * * * * * * * * * \n",
      "\n",
      "              * * * * * * * * * * * * * * * * * * * * * * * * * * * * * * * * \n",
      "\n",
      "             * * * * * * * * * * * * * * * * * * * * * * * * * * * * * * * * * \n",
      "\n",
      "            * * * * * * * * * * * * * * * * * * * * * * * * * * * * * * * * * * \n",
      "\n",
      "           * * * * * * * * * * * * * * * * * * * * * * * * * * * * * * * * * * * \n",
      "\n",
      "          * * * * * * * * * * * * * * * * * * * * * * * * * * * * * * * * * * * * \n",
      "\n",
      "         * * * * * * * * * * * * * * * * * * * * * * * * * * * * * * * * * * * * * \n",
      "\n",
      "        * * * * * * * * * * * * * * * * * * * * * * * * * * * * * * * * * * * * * * \n",
      "\n",
      "       * * * * * * * * * * * * * * * * * * * * * * * * * * * * * * * * * * * * * * * \n",
      "\n",
      "      * * * * * * * * * * * * * * * * * * * * * * * * * * * * * * * * * * * * * * * * \n",
      "\n",
      "     * * * * * * * * * * * * * * * * * * * * * * * * * * * * * * * * * * * * * * * * * \n",
      "\n",
      "    * * * * * * * * * * * * * * * * * * * * * * * * * * * * * * * * * * * * * * * * * * \n",
      "\n",
      "   * * * * * * * * * * * * * * * * * * * * * * * * * * * * * * * * * * * * * * * * * * * \n",
      "\n",
      "  * * * * * * * * * * * * * * * * * * * * * * * * * * * * * * * * * * * * * * * * * * * * \n",
      "\n",
      " * * * * * * * * * * * * * * * * * * * * * * * * * * * * * * * * * * * * * * * * * * * * * \n",
      "\n",
      "* * * * * * * * * * * * * * * * * * * * * * * * * * * * * * * * * * * * * * * * * * * * * * \n",
      "\n",
      "* * * * * * * * * * * * * * * * * * * * * * * * * * * * * * * * * * * * * * * * * * * * * * * \n",
      "\n",
      "* * * * * * * * * * * * * * * * * * * * * * * * * * * * * * * * * * * * * * * * * * * * * * * * \n",
      "\n",
      "* * * * * * * * * * * * * * * * * * * * * * * * * * * * * * * * * * * * * * * * * * * * * * * * * \n",
      "\n",
      "* * * * * * * * * * * * * * * * * * * * * * * * * * * * * * * * * * * * * * * * * * * * * * * * * * \n",
      "\n",
      "* * * * * * * * * * * * * * * * * * * * * * * * * * * * * * * * * * * * * * * * * * * * * * * * * * * \n",
      "\n",
      "* * * * * * * * * * * * * * * * * * * * * * * * * * * * * * * * * * * * * * * * * * * * * * * * * * * * \n",
      "\n",
      "* * * * * * * * * * * * * * * * * * * * * * * * * * * * * * * * * * * * * * * * * * * * * * * * * * * * * \n",
      "\n",
      "* * * * * * * * * * * * * * * * * * * * * * * * * * * * * * * * * * * * * * * * * * * * * * * * * * * * * * \n",
      "\n",
      "* * * * * * * * * * * * * * * * * * * * * * * * * * * * * * * * * * * * * * * * * * * * * * * * * * * * * * * \n",
      "\n",
      "* * * * * * * * * * * * * * * * * * * * * * * * * * * * * * * * * * * * * * * * * * * * * * * * * * * * * * * * \n",
      "\n",
      "* * * * * * * * * * * * * * * * * * * * * * * * * * * * * * * * * * * * * * * * * * * * * * * * * * * * * * * * * \n",
      "\n",
      "* * * * * * * * * * * * * * * * * * * * * * * * * * * * * * * * * * * * * * * * * * * * * * * * * * * * * * * * * * \n",
      "\n",
      "* * * * * * * * * * * * * * * * * * * * * * * * * * * * * * * * * * * * * * * * * * * * * * * * * * * * * * * * * * * \n",
      "\n",
      "* * * * * * * * * * * * * * * * * * * * * * * * * * * * * * * * * * * * * * * * * * * * * * * * * * * * * * * * * * * * \n",
      "\n",
      "* * * * * * * * * * * * * * * * * * * * * * * * * * * * * * * * * * * * * * * * * * * * * * * * * * * * * * * * * * * * * \n",
      "\n",
      "* * * * * * * * * * * * * * * * * * * * * * * * * * * * * * * * * * * * * * * * * * * * * * * * * * * * * * * * * * * * * * \n",
      "\n",
      "* * * * * * * * * * * * * * * * * * * * * * * * * * * * * * * * * * * * * * * * * * * * * * * * * * * * * * * * * * * * * * * \n",
      "\n",
      "* * * * * * * * * * * * * * * * * * * * * * * * * * * * * * * * * * * * * * * * * * * * * * * * * * * * * * * * * * * * * * * * \n",
      "\n",
      "* * * * * * * * * * * * * * * * * * * * * * * * * * * * * * * * * * * * * * * * * * * * * * * * * * * * * * * * * * * * * * * * * \n",
      "\n",
      "* * * * * * * * * * * * * * * * * * * * * * * * * * * * * * * * * * * * * * * * * * * * * * * * * * * * * * * * * * * * * * * * * * \n",
      "\n",
      "* * * * * * * * * * * * * * * * * * * * * * * * * * * * * * * * * * * * * * * * * * * * * * * * * * * * * * * * * * * * * * * * * * * \n",
      "\n",
      "* * * * * * * * * * * * * * * * * * * * * * * * * * * * * * * * * * * * * * * * * * * * * * * * * * * * * * * * * * * * * * * * * * * * \n",
      "\n",
      "* * * * * * * * * * * * * * * * * * * * * * * * * * * * * * * * * * * * * * * * * * * * * * * * * * * * * * * * * * * * * * * * * * * * * \n",
      "\n",
      "* * * * * * * * * * * * * * * * * * * * * * * * * * * * * * * * * * * * * * * * * * * * * * * * * * * * * * * * * * * * * * * * * * * * * * \n",
      "\n",
      "* * * * * * * * * * * * * * * * * * * * * * * * * * * * * * * * * * * * * * * * * * * * * * * * * * * * * * * * * * * * * * * * * * * * * * * \n",
      "\n",
      "* * * * * * * * * * * * * * * * * * * * * * * * * * * * * * * * * * * * * * * * * * * * * * * * * * * * * * * * * * * * * * * * * * * * * * * * \n",
      "\n",
      "* * * * * * * * * * * * * * * * * * * * * * * * * * * * * * * * * * * * * * * * * * * * * * * * * * * * * * * * * * * * * * * * * * * * * * * * * \n",
      "\n",
      "* * * * * * * * * * * * * * * * * * * * * * * * * * * * * * * * * * * * * * * * * * * * * * * * * * * * * * * * * * * * * * * * * * * * * * * * * * \n",
      "\n",
      "* * * * * * * * * * * * * * * * * * * * * * * * * * * * * * * * * * * * * * * * * * * * * * * * * * * * * * * * * * * * * * * * * * * * * * * * * * * \n",
      "\n",
      "* * * * * * * * * * * * * * * * * * * * * * * * * * * * * * * * * * * * * * * * * * * * * * * * * * * * * * * * * * * * * * * * * * * * * * * * * * * * \n",
      "\n",
      "* * * * * * * * * * * * * * * * * * * * * * * * * * * * * * * * * * * * * * * * * * * * * * * * * * * * * * * * * * * * * * * * * * * * * * * * * * * * * \n",
      "\n",
      "* * * * * * * * * * * * * * * * * * * * * * * * * * * * * * * * * * * * * * * * * * * * * * * * * * * * * * * * * * * * * * * * * * * * * * * * * * * * * * \n",
      "\n",
      "* * * * * * * * * * * * * * * * * * * * * * * * * * * * * * * * * * * * * * * * * * * * * * * * * * * * * * * * * * * * * * * * * * * * * * * * * * * * * * * \n",
      "\n",
      "* * * * * * * * * * * * * * * * * * * * * * * * * * * * * * * * * * * * * * * * * * * * * * * * * * * * * * * * * * * * * * * * * * * * * * * * * * * * * * * * \n",
      "\n",
      "* * * * * * * * * * * * * * * * * * * * * * * * * * * * * * * * * * * * * * * * * * * * * * * * * * * * * * * * * * * * * * * * * * * * * * * * * * * * * * * * * \n",
      "\n",
      "* * * * * * * * * * * * * * * * * * * * * * * * * * * * * * * * * * * * * * * * * * * * * * * * * * * * * * * * * * * * * * * * * * * * * * * * * * * * * * * * * * \n",
      "\n",
      "* * * * * * * * * * * * * * * * * * * * * * * * * * * * * * * * * * * * * * * * * * * * * * * * * * * * * * * * * * * * * * * * * * * * * * * * * * * * * * * * * * * \n",
      "\n",
      "* * * * * * * * * * * * * * * * * * * * * * * * * * * * * * * * * * * * * * * * * * * * * * * * * * * * * * * * * * * * * * * * * * * * * * * * * * * * * * * * * * * * \n",
      "\n",
      "* * * * * * * * * * * * * * * * * * * * * * * * * * * * * * * * * * * * * * * * * * * * * * * * * * * * * * * * * * * * * * * * * * * * * * * * * * * * * * * * * * * * * \n",
      "\n",
      "* * * * * * * * * * * * * * * * * * * * * * * * * * * * * * * * * * * * * * * * * * * * * * * * * * * * * * * * * * * * * * * * * * * * * * * * * * * * * * * * * * * * * * \n",
      "\n",
      "* * * * * * * * * * * * * * * * * * * * * * * * * * * * * * * * * * * * * * * * * * * * * * * * * * * * * * * * * * * * * * * * * * * * * * * * * * * * * * * * * * * * * * * \n",
      "\n"
     ]
    }
   ],
   "source": [
    "tree(87)"
   ]
  },
  {
   "cell_type": "markdown",
   "metadata": {},
   "source": [
    "# 第十題"
   ]
  },
  {
   "cell_type": "code",
   "execution_count": 27,
   "metadata": {
    "collapsed": false
   },
   "outputs": [
    {
     "name": "stdout",
     "output_type": "stream",
     "text": [
      "[23, 2, 3, 6, 47, 44]\n"
     ]
    }
   ],
   "source": [
    "import random\n",
    "print (random.sample(range(1, 50), 6))"
   ]
  },
  {
   "cell_type": "markdown",
   "metadata": {},
   "source": [
    "# 第十一題"
   ]
  },
  {
   "cell_type": "code",
   "execution_count": 2,
   "metadata": {
    "collapsed": false
   },
   "outputs": [
    {
     "name": "stdout",
     "output_type": "stream",
     "text": [
      "第一數3\n",
      "第二數4\n",
      "第三數5\n",
      "我覺得可以\n"
     ]
    }
   ],
   "source": [
    "one = float(input(\"第一數\"))\n",
    "two = float(input(\"第二數\"))\n",
    "three = float(input(\"第三數\"))\n",
    "\n",
    "if (one+two > three) & (two+three > one) & (three+one > two):\n",
    "    print(\"我覺得可以\")\n",
    "\n",
    "else:\n",
    "    print(\"我覺得不行\")"
   ]
  },
  {
   "cell_type": "code",
   "execution_count": null,
   "metadata": {
    "collapsed": true
   },
   "outputs": [],
   "source": []
  }
 ],
 "metadata": {
  "kernelspec": {
   "display_name": "Python 3",
   "language": "python",
   "name": "python3"
  },
  "language_info": {
   "codemirror_mode": {
    "name": "ipython",
    "version": 3
   },
   "file_extension": ".py",
   "mimetype": "text/x-python",
   "name": "python",
   "nbconvert_exporter": "python",
   "pygments_lexer": "ipython3",
   "version": "3.5.2"
  }
 },
 "nbformat": 4,
 "nbformat_minor": 0
}
